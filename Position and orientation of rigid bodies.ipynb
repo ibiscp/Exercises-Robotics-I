{
 "cells": [
  {
   "cell_type": "markdown",
   "metadata": {
    "deletable": true,
    "editable": true
   },
   "source": [
    "# Position and orientation of rigid bodies\n",
    "\n",
    "Define functions to work with rigid bodies"
   ]
  },
  {
   "cell_type": "markdown",
   "metadata": {
    "deletable": true,
    "editable": true
   },
   "source": [
    "## Import functions needed"
   ]
  },
  {
   "cell_type": "code",
   "execution_count": 1,
   "metadata": {
    "collapsed": false,
    "deletable": true,
    "editable": true
   },
   "outputs": [],
   "source": [
    "import numpy as np\n",
    "import math"
   ]
  },
  {
   "cell_type": "markdown",
   "metadata": {
    "deletable": true,
    "editable": true
   },
   "source": [
    "## Check if $R$ is a rotational matrix\n",
    "Return $True$ if matrix $R$ has the following properties to be rotational:\n",
    "* Determinant equal to +1\n",
    "* Its inverse is equal to its transpose"
   ]
  },
  {
   "cell_type": "code",
   "execution_count": 2,
   "metadata": {
    "collapsed": false,
    "deletable": true,
    "editable": true
   },
   "outputs": [
    {
     "name": "stdout",
     "output_type": "stream",
     "text": [
      "False\n"
     ]
    }
   ],
   "source": [
    "def is_rotational(R):\n",
    "    # Check if R is ortogonal an\n",
    "    if np.array_equal(np.transpose(R), np.linalg.inv(R)) and \\\n",
    "        np.linalg.det(R) == 1:\n",
    "        return True\n",
    "    else:\n",
    "        return False\n",
    "\n",
    "R = np.matrix([[-1,               0,               0],\n",
    "               [ 0, -1/math.sqrt(2), -1/math.sqrt(2)],\n",
    "               [ 0, -1/math.sqrt(2),  1/math.sqrt(2)]])\n",
    "    \n",
    "print(is_rotational(R))"
   ]
  },
  {
   "cell_type": "markdown",
   "metadata": {
    "deletable": true,
    "editable": true
   },
   "source": [
    "## Rotational matrix\n",
    "Given an angle $\\theta$ and a vector $r$, return a rotational matrix of the angle $\\theta$ around the vector $r$."
   ]
  },
  {
   "cell_type": "code",
   "execution_count": 3,
   "metadata": {
    "collapsed": true,
    "deletable": true,
    "editable": true
   },
   "outputs": [],
   "source": [
    "def rotational(theta, r):\n",
    "    # Separate x, y and z from vector r\n",
    "    rx = r.item(0)\n",
    "    ry = r.item(1)\n",
    "    rz = r.item(2)\n",
    "    \n",
    "    # Calculate sin an cos of theta\n",
    "    s = math.sin(theta)\n",
    "    c = math.cos(theta)\n",
    "    \n",
    "    # Calculate rotational matrix\n",
    "    rot = np.matrix([[rx*rx*(1-c)+c,    rx*ry*(1-c)-rz*s, rx*rz*(1-c)+ry*s],\n",
    "                     [rx*ry*(1-c)+rz*s, ry*ry*(1-c)+c,    ry*rz*(1-c)-rx*s],\n",
    "                     [rx*rz*(1-c)-ry*s, ry*rz*(1-c)+rx*s, rz*rz*(1-c)+c   ]])\n",
    "    \n",
    "    return rot"
   ]
  },
  {
   "cell_type": "markdown",
   "metadata": {
    "deletable": true,
    "editable": true
   },
   "source": [
    "### Example\n",
    "Rotational matrix of $\\Pi$ around the vector $z$."
   ]
  },
  {
   "cell_type": "code",
   "execution_count": 4,
   "metadata": {
    "collapsed": false,
    "deletable": true,
    "editable": true
   },
   "outputs": [
    {
     "name": "stdout",
     "output_type": "stream",
     "text": [
      "[[ -1.00000000e+00  -1.22464680e-16   0.00000000e+00]\n",
      " [  1.22464680e-16  -1.00000000e+00   0.00000000e+00]\n",
      " [  0.00000000e+00   0.00000000e+00   1.00000000e+00]]\n"
     ]
    }
   ],
   "source": [
    "theta = math.pi\n",
    "r = np.matrix([0,0,1])\n",
    "R = rotational(theta, r)\n",
    "print(R)"
   ]
  },
  {
   "cell_type": "markdown",
   "metadata": {
    "deletable": true,
    "editable": true
   },
   "source": [
    "## Inverse of rotational matrix\n",
    "Given a rotational matrix $R$, return a unit vector $r$ and an angle $\\theta$."
   ]
  },
  {
   "cell_type": "code",
   "execution_count": 5,
   "metadata": {
    "collapsed": false,
    "deletable": true,
    "editable": true
   },
   "outputs": [],
   "source": [
    "def inv_rotational(R):\n",
    "    # Calculate R - R'\n",
    "    RRt = R - np.transpose(R)\n",
    "    \n",
    "    # Calculate the trace the the matrix R\n",
    "    trace = np.trace(R)\n",
    "    \n",
    "    # Calculate theta\n",
    "    theta = math.atan2(math.sqrt(RRt.item(0,1)*RRt.item(0,1) +\n",
    "                                 RRt.item(0,2)*RRt.item(0,2) +\n",
    "                                 RRt.item(1,2)*RRt.item(1,2)), trace - 1)\n",
    "\n",
    "    # If singular case\n",
    "    if (math.sin(theta) < 0.0000001):\n",
    "        if theta < 0.0000001:\n",
    "            raise Exception('ERROR: theta needs to be different than 0!')\n",
    "        elif abs(theta) == math.pi:\n",
    "            RRt12 = np.sign(RRt.item(0,1))\n",
    "            RRt13 = np.sign(-RRt.item(0,2))\n",
    "            raise Exception('TODO: correct sign, wrong result!')\n",
    "            r = np.matrix([math.sqrt((R.item(0,0)+1)/2), RRt12*math.sqrt((R.item(1,1)+1)/2), RRt13*math.sqrt((R.item(2,2)+1)/2)])\n",
    "    else:\n",
    "        # Calculate the unit vector r\n",
    "        r = 1/(2*math.sin(theta))*np.matrix([-RRt.item(1,2), RRt.item(0,2), -RRt.item(0,1)])\n",
    "    \n",
    "    return [theta, r]"
   ]
  },
  {
   "cell_type": "markdown",
   "metadata": {
    "deletable": true,
    "editable": true
   },
   "source": [
    "### Example\n",
    "Recover the angle $\\theta$ and the vector $z$ given a rotational matrix $R$."
   ]
  },
  {
   "cell_type": "code",
   "execution_count": 6,
   "metadata": {
    "collapsed": false,
    "deletable": true,
    "editable": true
   },
   "outputs": [
    {
     "name": "stdout",
     "output_type": "stream",
     "text": [
      "1.9308162684084664\n",
      "[[-0.24312002  0.00191647 -0.00579558]]\n"
     ]
    }
   ],
   "source": [
    "R = np.random.rand(3,3)\n",
    "[theta, r] = inv_rotational(R)\n",
    "print(theta)\n",
    "print(r)"
   ]
  },
  {
   "cell_type": "markdown",
   "metadata": {
    "deletable": true,
    "editable": true
   },
   "source": [
    "Recover the angle $\\theta$ and the vector $z$ given a singular rotational matrix $R$, where the angle is equal to $\\Pi$."
   ]
  },
  {
   "cell_type": "code",
   "execution_count": 7,
   "metadata": {
    "collapsed": false,
    "deletable": true,
    "editable": true
   },
   "outputs": [
    {
     "ename": "Exception",
     "evalue": "TODO: correct sign, wrong result!",
     "output_type": "error",
     "traceback": [
      "\u001b[1;31m---------------------------------------------------------------------------\u001b[0m",
      "\u001b[1;31mException\u001b[0m                                 Traceback (most recent call last)",
      "\u001b[1;32m<ipython-input-7-bf1febdd081e>\u001b[0m in \u001b[0;36m<module>\u001b[1;34m()\u001b[0m\n\u001b[0;32m      5\u001b[0m \u001b[1;31m# First check to see if R is a rotational matrix\u001b[0m\u001b[1;33m\u001b[0m\u001b[1;33m\u001b[0m\u001b[0m\n\u001b[0;32m      6\u001b[0m \u001b[0mis_rotational\u001b[0m\u001b[1;33m(\u001b[0m\u001b[0mR\u001b[0m\u001b[1;33m)\u001b[0m\u001b[1;33m\u001b[0m\u001b[0m\n\u001b[1;32m----> 7\u001b[1;33m \u001b[1;33m[\u001b[0m\u001b[0mtheta\u001b[0m\u001b[1;33m,\u001b[0m \u001b[0mr\u001b[0m\u001b[1;33m]\u001b[0m \u001b[1;33m=\u001b[0m \u001b[0minv_rotational\u001b[0m\u001b[1;33m(\u001b[0m\u001b[0mR\u001b[0m\u001b[1;33m)\u001b[0m\u001b[1;33m\u001b[0m\u001b[0m\n\u001b[0m\u001b[0;32m      8\u001b[0m \u001b[0mprint\u001b[0m\u001b[1;33m(\u001b[0m\u001b[0mtheta\u001b[0m\u001b[1;33m)\u001b[0m\u001b[1;33m\u001b[0m\u001b[0m\n\u001b[0;32m      9\u001b[0m \u001b[0mprint\u001b[0m\u001b[1;33m(\u001b[0m\u001b[0mr\u001b[0m\u001b[1;33m)\u001b[0m\u001b[1;33m\u001b[0m\u001b[0m\n",
      "\u001b[1;32m<ipython-input-5-ae51c7ed6fe1>\u001b[0m in \u001b[0;36minv_rotational\u001b[1;34m(R)\u001b[0m\n\u001b[0;32m     18\u001b[0m             \u001b[0mRRt12\u001b[0m \u001b[1;33m=\u001b[0m \u001b[0mnp\u001b[0m\u001b[1;33m.\u001b[0m\u001b[0msign\u001b[0m\u001b[1;33m(\u001b[0m\u001b[0mRRt\u001b[0m\u001b[1;33m.\u001b[0m\u001b[0mitem\u001b[0m\u001b[1;33m(\u001b[0m\u001b[1;36m0\u001b[0m\u001b[1;33m,\u001b[0m\u001b[1;36m1\u001b[0m\u001b[1;33m)\u001b[0m\u001b[1;33m)\u001b[0m\u001b[1;33m\u001b[0m\u001b[0m\n\u001b[0;32m     19\u001b[0m             \u001b[0mRRt13\u001b[0m \u001b[1;33m=\u001b[0m \u001b[0mnp\u001b[0m\u001b[1;33m.\u001b[0m\u001b[0msign\u001b[0m\u001b[1;33m(\u001b[0m\u001b[1;33m-\u001b[0m\u001b[0mRRt\u001b[0m\u001b[1;33m.\u001b[0m\u001b[0mitem\u001b[0m\u001b[1;33m(\u001b[0m\u001b[1;36m0\u001b[0m\u001b[1;33m,\u001b[0m\u001b[1;36m2\u001b[0m\u001b[1;33m)\u001b[0m\u001b[1;33m)\u001b[0m\u001b[1;33m\u001b[0m\u001b[0m\n\u001b[1;32m---> 20\u001b[1;33m             \u001b[1;32mraise\u001b[0m \u001b[0mException\u001b[0m\u001b[1;33m(\u001b[0m\u001b[1;34m'TODO: correct sign, wrong result!'\u001b[0m\u001b[1;33m)\u001b[0m\u001b[1;33m\u001b[0m\u001b[0m\n\u001b[0m\u001b[0;32m     21\u001b[0m             \u001b[0mr\u001b[0m \u001b[1;33m=\u001b[0m \u001b[0mnp\u001b[0m\u001b[1;33m.\u001b[0m\u001b[0mmatrix\u001b[0m\u001b[1;33m(\u001b[0m\u001b[1;33m[\u001b[0m\u001b[0mmath\u001b[0m\u001b[1;33m.\u001b[0m\u001b[0msqrt\u001b[0m\u001b[1;33m(\u001b[0m\u001b[1;33m(\u001b[0m\u001b[0mR\u001b[0m\u001b[1;33m.\u001b[0m\u001b[0mitem\u001b[0m\u001b[1;33m(\u001b[0m\u001b[1;36m0\u001b[0m\u001b[1;33m,\u001b[0m\u001b[1;36m0\u001b[0m\u001b[1;33m)\u001b[0m\u001b[1;33m+\u001b[0m\u001b[1;36m1\u001b[0m\u001b[1;33m)\u001b[0m\u001b[1;33m/\u001b[0m\u001b[1;36m2\u001b[0m\u001b[1;33m)\u001b[0m\u001b[1;33m,\u001b[0m \u001b[0mRRt12\u001b[0m\u001b[1;33m*\u001b[0m\u001b[0mmath\u001b[0m\u001b[1;33m.\u001b[0m\u001b[0msqrt\u001b[0m\u001b[1;33m(\u001b[0m\u001b[1;33m(\u001b[0m\u001b[0mR\u001b[0m\u001b[1;33m.\u001b[0m\u001b[0mitem\u001b[0m\u001b[1;33m(\u001b[0m\u001b[1;36m1\u001b[0m\u001b[1;33m,\u001b[0m\u001b[1;36m1\u001b[0m\u001b[1;33m)\u001b[0m\u001b[1;33m+\u001b[0m\u001b[1;36m1\u001b[0m\u001b[1;33m)\u001b[0m\u001b[1;33m/\u001b[0m\u001b[1;36m2\u001b[0m\u001b[1;33m)\u001b[0m\u001b[1;33m,\u001b[0m \u001b[0mRRt13\u001b[0m\u001b[1;33m*\u001b[0m\u001b[0mmath\u001b[0m\u001b[1;33m.\u001b[0m\u001b[0msqrt\u001b[0m\u001b[1;33m(\u001b[0m\u001b[1;33m(\u001b[0m\u001b[0mR\u001b[0m\u001b[1;33m.\u001b[0m\u001b[0mitem\u001b[0m\u001b[1;33m(\u001b[0m\u001b[1;36m2\u001b[0m\u001b[1;33m,\u001b[0m\u001b[1;36m2\u001b[0m\u001b[1;33m)\u001b[0m\u001b[1;33m+\u001b[0m\u001b[1;36m1\u001b[0m\u001b[1;33m)\u001b[0m\u001b[1;33m/\u001b[0m\u001b[1;36m2\u001b[0m\u001b[1;33m)\u001b[0m\u001b[1;33m]\u001b[0m\u001b[1;33m)\u001b[0m\u001b[1;33m\u001b[0m\u001b[0m\n\u001b[0;32m     22\u001b[0m     \u001b[1;32melse\u001b[0m\u001b[1;33m:\u001b[0m\u001b[1;33m\u001b[0m\u001b[0m\n",
      "\u001b[1;31mException\u001b[0m: TODO: correct sign, wrong result!"
     ]
    }
   ],
   "source": [
    "R = np.matrix([[-1,               0,               0],\n",
    "               [ 0, -1/math.sqrt(2), -1/math.sqrt(2)],\n",
    "               [ 0, -1/math.sqrt(2),  1/math.sqrt(2)]])\n",
    "\n",
    "# First check to see if R is a rotational matrix\n",
    "is_rotational(R)\n",
    "[theta, r] = inv_rotational(R)\n",
    "print(theta)\n",
    "print(r)"
   ]
  },
  {
   "cell_type": "markdown",
   "metadata": {
    "deletable": true,
    "editable": true
   },
   "source": [
    "## Euler Angles"
   ]
  },
  {
   "cell_type": "code",
   "execution_count": 8,
   "metadata": {
    "collapsed": false,
    "deletable": true,
    "editable": true
   },
   "outputs": [
    {
     "name": "stdout",
     "output_type": "stream",
     "text": [
      "[[-0.43478138 -0.56611253  0.70034403]\n",
      " [-0.90053518  0.27225033 -0.33899283]\n",
      " [ 0.0012392  -0.77807221 -0.62817362]]\n"
     ]
    }
   ],
   "source": [
    "def euler_angles(phi, theta, psi):\n",
    "    # Calculate cos of the angles\n",
    "    cphi = math.cos(phi)\n",
    "    ctheta = math.cos(theta)\n",
    "    cpsi = math.cos(psi)\n",
    "    \n",
    "    # Calculate sin of the angles\n",
    "    sphi = math.sin(phi)\n",
    "    stheta = math.sin(theta)\n",
    "    spsi = math.sin(psi)\n",
    "    \n",
    "    R = np.matrix([[cphi*cpsi-sphi*ctheta*spsi, -cphi*spsi-sphi*ctheta*cpsi, sphi*stheta],\n",
    "                   [sphi*cpsi+cphi*ctheta*spsi, -sphi*spsi+cphi*ctheta*cpsi, -cphi*stheta],\n",
    "                   [stheta*spsi, stheta*cpsi, ctheta]])\n",
    "    \n",
    "    return R\n",
    "\n",
    "R = euler_angles(1.12, 2.25, 3.14)\n",
    "print(R)"
   ]
  },
  {
   "cell_type": "code",
   "execution_count": 9,
   "metadata": {
    "collapsed": false,
    "deletable": true,
    "editable": true
   },
   "outputs": [
    {
     "name": "stdout",
     "output_type": "stream",
     "text": [
      "1.12 2.25 3.14\n"
     ]
    }
   ],
   "source": [
    "def inv_euler_angles(R):\n",
    "    \n",
    "    theta = math.atan2(math.sqrt(R.item(0,2)*R.item(0,2)+R.item(1,2)*R.item(1,2)), R.item(2,2))\n",
    "    \n",
    "    # If singular case\n",
    "    if (math.sin(theta) < 0.0000001):\n",
    "        raise Exception('ERROR: theta needs to be different than 0!')\n",
    "    else:\n",
    "        # Calculate phi and psi\n",
    "        phi = math.atan2(R.item(0,2)/math.sin(theta), -R.item(1,2)/math.sin(theta))\n",
    "        psi = math.atan2(R.item(2,0)/math.sin(theta), R.item(2,1)/math.sin(theta))\n",
    "        \n",
    "    return [phi, theta, psi]\n",
    "    \n",
    "[phi, theta, psi] = inv_euler_angles(R)\n",
    "print(phi, theta, psi)"
   ]
  },
  {
   "cell_type": "markdown",
   "metadata": {
    "deletable": true,
    "editable": true
   },
   "source": [
    "## Roll-Pitch-Yaw angles"
   ]
  },
  {
   "cell_type": "code",
   "execution_count": 10,
   "metadata": {
    "collapsed": false,
    "deletable": true,
    "editable": true
   },
   "outputs": [
    {
     "name": "stdout",
     "output_type": "stream",
     "text": [
      "[[ 0.62817283 -0.70103703 -0.33755886]\n",
      " [-0.00100046 -0.43456649  0.9006392 ]\n",
      " [-0.7780732  -0.56541936 -0.27368422]]\n"
     ]
    }
   ],
   "source": [
    "def rpy_angles(psi, theta, phi):\n",
    "    # Calculate cos of the angles\n",
    "    cpsi = math.cos(psi)\n",
    "    ctheta = math.cos(theta)\n",
    "    cphi = math.cos(phi)\n",
    "    \n",
    "    # Calculate sin of the angles\n",
    "    spsi = math.sin(psi)\n",
    "    stheta = math.sin(theta)\n",
    "    sphi = math.sin(phi)\n",
    "    \n",
    "    R = np.matrix([[cphi*ctheta, cphi*stheta*spsi-sphi*cpsi, cphi*stheta*cpsi+sphi*spsi],\n",
    "                   [sphi*ctheta, sphi*stheta*spsi+cphi*cpsi, sphi*stheta*cpsi-cphi*spsi],\n",
    "                   [-stheta, ctheta*spsi, ctheta*cpsi]])\n",
    "    \n",
    "    return R\n",
    "\n",
    "R = rpy_angles(1.12, 2.25, 3.14)\n",
    "print(R)"
   ]
  },
  {
   "cell_type": "code",
   "execution_count": 11,
   "metadata": {
    "collapsed": false,
    "deletable": true,
    "editable": true
   },
   "outputs": [
    {
     "name": "stdout",
     "output_type": "stream",
     "text": [
      "-2.021592653589793 0.8915926535897932 -0.0015926535897931137\n"
     ]
    }
   ],
   "source": [
    "def inv_rpy_angles(R):\n",
    "    \n",
    "    theta = math.atan2(-R.item(2,0),math.sqrt(R.item(2,1)*R.item(2,1)+R.item(2,2)*R.item(2,2)))\n",
    "    \n",
    "    # If singular case\n",
    "    if (math.cos(theta) < 0.0000001):\n",
    "        raise Exception('ERROR: cos(theta) needs to be different than 0!')\n",
    "    else:\n",
    "        # Calculate phi and psi\n",
    "        phi = math.atan2(R.item(1,0)/math.cos(theta), R.item(0,0)/math.cos(theta))\n",
    "        psi = math.atan2(R.item(2,1)/math.cos(theta), R.item(2,2)/math.cos(theta))\n",
    "        \n",
    "    return [psi, theta, phi]\n",
    "    \n",
    "[psi, theta, phi] = inv_rpy_angles(R)\n",
    "print(psi, theta, phi)"
   ]
  }
 ],
 "metadata": {
  "kernelspec": {
   "display_name": "Python 3",
   "language": "python",
   "name": "python3"
  },
  "language_info": {
   "codemirror_mode": {
    "name": "ipython",
    "version": 3
   },
   "file_extension": ".py",
   "mimetype": "text/x-python",
   "name": "python",
   "nbconvert_exporter": "python",
   "pygments_lexer": "ipython3",
   "version": "3.6.0"
  }
 },
 "nbformat": 4,
 "nbformat_minor": 2
}
