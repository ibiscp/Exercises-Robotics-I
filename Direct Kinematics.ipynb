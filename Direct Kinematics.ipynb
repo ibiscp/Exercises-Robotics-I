{
 "cells": [
  {
   "cell_type": "markdown",
   "metadata": {
    "deletable": true,
    "editable": true
   },
   "source": [
    "# Direct Kinematics\n",
    "\n",
    "In order to calculate the direct kinematics"
   ]
  },
  {
   "cell_type": "code",
   "execution_count": 49,
   "metadata": {
    "collapsed": false,
    "deletable": true,
    "editable": true
   },
   "outputs": [],
   "source": [
    "from sympy import *\n",
    "import time\n",
    "from IPython.display import display\n",
    "init_printing()\n",
    "\n",
    "def print_denavit_hartenberg(parameters):\n",
    "    \n",
    "    # Create identity matrix\n",
    "    A = eye(4)\n",
    "    \n",
    "    # Substitute the parameters in the matrix and multiply\n",
    "    for i in range(parameters.shape[0]):\n",
    "        alpha = parameters[i,0]\n",
    "        a = parameters[i,1]\n",
    "        d = parameters[i,2]\n",
    "        theta = parameters[i,3]\n",
    "        \n",
    "        newA = Matrix([[cos(theta), -cos(alpha)*sin(theta),  sin(alpha)*sin(theta), a*cos(theta)],\n",
    "                          [sin(theta),  cos(alpha)*cos(theta), -sin(alpha)*cos(theta), a*sin(theta)],\n",
    "                          [         0,             sin(alpha),             cos(alpha),            d],\n",
    "                          [         0,                      0,                      0,            1]])\n",
    "        \n",
    "        A = A*newA\n",
    "        A = simplify(A)\n",
    "        \n",
    "    print('Parameters')\n",
    "    display(parameters)\n",
    "\n",
    "    print('\\nResult')\n",
    "    display(A)"
   ]
  },
  {
   "cell_type": "code",
   "execution_count": 50,
   "metadata": {
    "collapsed": false
   },
   "outputs": [
    {
     "name": "stdout",
     "output_type": "stream",
     "text": [
      "Parameters\n"
     ]
    },
    {
     "data": {
      "image/png": "[encoded data removed]",
      "text/latex": [
       "$$\\left[\\begin{matrix}0 & a_{1} & d_{1} & \\theta_{1}\\\\0 & a_{2} & 0 & \\theta_{2}\\\\0 & 0 & d_{3} & 0\\\\\\pi & 0 & d_{4} & \\theta_{4}\\end{matrix}\\right]$$"
      ],
      "text/plain": [
       "⎡0  a₁  d₁  θ₁⎤\n",
       "⎢             ⎥\n",
       "⎢0  a₂  0   θ₂⎥\n",
       "⎢             ⎥\n",
       "⎢0  0   d₃  0 ⎥\n",
       "⎢             ⎥\n",
       "⎣π  0   d₄  θ₄⎦"
      ]
     },
     "metadata": {},
     "output_type": "display_data"
    },
    {
     "name": "stdout",
     "output_type": "stream",
     "text": [
      "\n",
      "Result\n"
     ]
    },
    {
     "data": {
      "image/png": "[encoded data removed]",
      "text/latex": [
       "$$\\left[\\begin{matrix}\\cos{\\left (\\theta_{1} + \\theta_{2} + \\theta_{4} \\right )} & \\sin{\\left (\\theta_{1} + \\theta_{2} + \\theta_{4} \\right )} & 0 & a_{1} \\cos{\\left (\\theta_{1} \\right )} + a_{2} \\cos{\\left (\\theta_{1} + \\theta_{2} \\right )}\\\\\\sin{\\left (\\theta_{1} + \\theta_{2} + \\theta_{4} \\right )} & - \\cos{\\left (\\theta_{1} + \\theta_{2} + \\theta_{4} \\right )} & 0 & a_{1} \\sin{\\left (\\theta_{1} \\right )} + a_{2} \\sin{\\left (\\theta_{1} + \\theta_{2} \\right )}\\\\0 & 0 & -1 & d_{1} + d_{3} + d_{4}\\\\0 & 0 & 0 & 1\\end{matrix}\\right]$$"
      ],
      "text/plain": [
       "⎡cos(θ₁ + θ₂ + θ₄)  sin(θ₁ + θ₂ + θ₄)   0   a₁⋅cos(θ₁) + a₂⋅cos(θ₁ + θ₂)⎤\n",
       "⎢                                                                       ⎥\n",
       "⎢sin(θ₁ + θ₂ + θ₄)  -cos(θ₁ + θ₂ + θ₄)  0   a₁⋅sin(θ₁) + a₂⋅sin(θ₁ + θ₂)⎥\n",
       "⎢                                                                       ⎥\n",
       "⎢        0                  0           -1          d₁ + d₃ + d₄        ⎥\n",
       "⎢                                                                       ⎥\n",
       "⎣        0                  0           0                1              ⎦"
      ]
     },
     "metadata": {},
     "output_type": "display_data"
    }
   ],
   "source": [
    "parameters = Matrix([[0, symbols('a_1'), symbols('d_1'), symbols('theta_1')],\n",
    "                     [0, symbols('a_2'), 0, symbols('theta_2')],\n",
    "                     [0, 0, symbols('d_3'), 0],\n",
    "                     [pi, 0, symbols('d_4'), symbols('theta_4')]])\n",
    "\n",
    "print_denavit_hartenberg(parameters)"
   ]
  }
 ],
 "metadata": {
  "kernelspec": {
   "display_name": "Python 3",
   "language": "python",
   "name": "python3"
  },
  "language_info": {
   "codemirror_mode": {
    "name": "ipython",
    "version": 3
   },
   "file_extension": ".py",
   "mimetype": "text/x-python",
   "name": "python",
   "nbconvert_exporter": "python",
   "pygments_lexer": "ipython3",
   "version": "3.6.0"
  }
 },
 "nbformat": 4,
 "nbformat_minor": 2
}
