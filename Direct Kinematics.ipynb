{
 "cells": [
  {
   "cell_type": "markdown",
   "metadata": {},
   "source": [
    "# Direct Kinematics\n",
    "\n",
    "In order to calculate the direct kinematics"
   ]
  },
  {
   "cell_type": "code",
   "execution_count": 2,
   "metadata": {},
   "outputs": [],
   "source": [
    "from sympy import *\n",
    "import time\n",
    "from IPython.display import display\n",
    "init_printing()\n",
    "\n",
    "def print_denavit_hartenberg(parameters):\n",
    "    \n",
    "    # Create identity matrix\n",
    "    A = eye(4)\n",
    "    \n",
    "    # Substitute the parameters in the matrix and multiply\n",
    "    for i in range(parameters.shape[0]):\n",
    "        alpha = parameters[i,0]\n",
    "        a = parameters[i,1]\n",
    "        d = parameters[i,2]\n",
    "        theta = parameters[i,3]\n",
    "        \n",
    "        newA = Matrix([[cos(theta), -cos(alpha)*sin(theta),  sin(alpha)*sin(theta), a*cos(theta)],\n",
    "                          [sin(theta),  cos(alpha)*cos(theta), -sin(alpha)*cos(theta), a*sin(theta)],\n",
    "                          [         0,             sin(alpha),             cos(alpha),            d],\n",
    "                          [         0,                      0,                      0,            1]])\n",
    "        \n",
    "        A = A*newA\n",
    "        A = simplify(A)\n",
    "        \n",
    "    print('Parameters')\n",
    "    display(parameters)\n",
    "\n",
    "    print('\\nResult')\n",
    "    display(A)"
   ]
  },
  {
   "cell_type": "code",
   "execution_count": 4,
   "metadata": {},
   "outputs": [
    {
     "name": "stdout",
     "output_type": "stream",
     "text": [
      "Parameters\n"
     ]
    },
    {
     "data": {
      "text/latex": [
       "$$\\left[\\begin{matrix}0 & a_{1} & d_{1} & \\theta_{1}\\\\0 & a_{2} & 0 & \\theta_{2}\\\\0 & 0 & d_{3} & 0\\\\\\pi & 0 & d_{4} & \\theta_{4}\\end{matrix}\\right]$$"
      ],
      "text/plain": [
       "⎡0  a₁  d₁  θ₁⎤\n",
       "⎢             ⎥\n",
       "⎢0  a₂  0   θ₂⎥\n",
       "⎢             ⎥\n",
       "⎢0  0   d₃  0 ⎥\n",
       "⎢             ⎥\n",
       "⎣π  0   d₄  θ₄⎦"
      ]
     },
     "metadata": {},
     "output_type": "display_data"
    },
    {
     "name": "stdout",
     "output_type": "stream",
     "text": [
      "\n",
      "Result\n"
     ]
    },
    {
     "data": {
      "text/latex": [
       "$$\\left[\\begin{matrix}\\cos{\\left (\\theta_{1} + \\theta_{2} + \\theta_{4} \\right )} & \\sin{\\left (\\theta_{1} + \\theta_{2} + \\theta_{4} \\right )} & 0 & a_{1} \\cos{\\left (\\theta_{1} \\right )} + a_{2} \\cos{\\left (\\theta_{1} + \\theta_{2} \\right )}\\\\\\sin{\\left (\\theta_{1} + \\theta_{2} + \\theta_{4} \\right )} & - \\cos{\\left (\\theta_{1} + \\theta_{2} + \\theta_{4} \\right )} & 0 & a_{1} \\sin{\\left (\\theta_{1} \\right )} + a_{2} \\sin{\\left (\\theta_{1} + \\theta_{2} \\right )}\\\\0 & 0 & -1 & d_{1} + d_{3} + d_{4}\\\\0 & 0 & 0 & 1\\end{matrix}\\right]$$"
      ],
      "text/plain": [
       "⎡cos(θ₁ + θ₂ + θ₄)  sin(θ₁ + θ₂ + θ₄)   0   a₁⋅cos(θ₁) + a₂⋅cos(θ₁ + θ₂)⎤\n",
       "⎢                                                                       ⎥\n",
       "⎢sin(θ₁ + θ₂ + θ₄)  -cos(θ₁ + θ₂ + θ₄)  0   a₁⋅sin(θ₁) + a₂⋅sin(θ₁ + θ₂)⎥\n",
       "⎢                                                                       ⎥\n",
       "⎢        0                  0           -1          d₁ + d₃ + d₄        ⎥\n",
       "⎢                                                                       ⎥\n",
       "⎣        0                  0           0                1              ⎦"
      ]
     },
     "metadata": {},
     "output_type": "display_data"
    }
   ],
   "source": [
    "parameters = Matrix([[0, symbols('a_1'), symbols('d_1'), symbols('theta_1')],\n",
    "                     [0, symbols('a_2'), 0, symbols('theta_2')],\n",
    "                     [0, 0, symbols('d_3'), 0],\n",
    "                     [pi, 0, symbols('d_4'), symbols('theta_4')]])\n",
    "\n",
    "print_denavit_hartenberg(parameters)"
   ]
  },
  {
   "cell_type": "code",
   "execution_count": 5,
   "metadata": {},
   "outputs": [
    {
     "name": "stdout",
     "output_type": "stream",
     "text": [
      "Parameters\n"
     ]
    },
    {
     "data": {
      "text/latex": [
       "$$\\left[\\begin{matrix}\\frac{\\pi}{2} & 0 & d_{w} & \\frac{\\pi}{2}\\\\- \\frac{\\pi}{2} & 0 & 0 & \\theta_{1}\\\\\\frac{\\pi}{2} & 0 & d_{2} & \\theta_{2}\\\\\\frac{\\pi}{2} & 0 & 0 & \\theta_{3}\\\\0 & 0 & d_{e} & 0\\end{matrix}\\right]$$"
      ],
      "text/plain": [
       "⎡ π           π ⎤\n",
       "⎢ ─   0  d_w  ─ ⎥\n",
       "⎢ 2           2 ⎥\n",
       "⎢               ⎥\n",
       "⎢-π             ⎥\n",
       "⎢───  0   0   θ₁⎥\n",
       "⎢ 2             ⎥\n",
       "⎢               ⎥\n",
       "⎢ π             ⎥\n",
       "⎢ ─   0  d₂   θ₂⎥\n",
       "⎢ 2             ⎥\n",
       "⎢               ⎥\n",
       "⎢ π             ⎥\n",
       "⎢ ─   0   0   θ₃⎥\n",
       "⎢ 2             ⎥\n",
       "⎢               ⎥\n",
       "⎣ 0   0  dₑ   0 ⎦"
      ]
     },
     "metadata": {},
     "output_type": "display_data"
    },
    {
     "name": "stdout",
     "output_type": "stream",
     "text": [
      "\n",
      "Result\n"
     ]
    },
    {
     "data": {
      "text/latex": [
       "$$\\left[\\begin{matrix}- \\sin{\\left (\\theta_{2} \\right )} \\cos{\\left (\\theta_{3} \\right )} & \\cos{\\left (\\theta_{2} \\right )} & - \\sin{\\left (\\theta_{2} \\right )} \\sin{\\left (\\theta_{3} \\right )} & - d_{e} \\sin{\\left (\\theta_{2} \\right )} \\sin{\\left (\\theta_{3} \\right )}\\\\- \\sin{\\left (\\theta_{1} \\right )} \\sin{\\left (\\theta_{3} \\right )} + \\cos{\\left (\\theta_{1} \\right )} \\cos{\\left (\\theta_{2} \\right )} \\cos{\\left (\\theta_{3} \\right )} & \\sin{\\left (\\theta_{2} \\right )} \\cos{\\left (\\theta_{1} \\right )} & \\sin{\\left (\\theta_{1} \\right )} \\cos{\\left (\\theta_{3} \\right )} + \\sin{\\left (\\theta_{3} \\right )} \\cos{\\left (\\theta_{1} \\right )} \\cos{\\left (\\theta_{2} \\right )} & - d_{2} \\sin{\\left (\\theta_{1} \\right )} + d_{e} \\left(\\sin{\\left (\\theta_{1} \\right )} \\cos{\\left (\\theta_{3} \\right )} + \\sin{\\left (\\theta_{3} \\right )} \\cos{\\left (\\theta_{1} \\right )} \\cos{\\left (\\theta_{2} \\right )}\\right)\\\\\\sin{\\left (\\theta_{1} \\right )} \\cos{\\left (\\theta_{2} \\right )} \\cos{\\left (\\theta_{3} \\right )} + \\sin{\\left (\\theta_{3} \\right )} \\cos{\\left (\\theta_{1} \\right )} & \\sin{\\left (\\theta_{1} \\right )} \\sin{\\left (\\theta_{2} \\right )} & \\sin{\\left (\\theta_{1} \\right )} \\sin{\\left (\\theta_{3} \\right )} \\cos{\\left (\\theta_{2} \\right )} - \\cos{\\left (\\theta_{1} \\right )} \\cos{\\left (\\theta_{3} \\right )} & d_{2} \\cos{\\left (\\theta_{1} \\right )} + d_{e} \\left(\\sin{\\left (\\theta_{1} \\right )} \\sin{\\left (\\theta_{3} \\right )} \\cos{\\left (\\theta_{2} \\right )} - \\cos{\\left (\\theta_{1} \\right )} \\cos{\\left (\\theta_{3} \\right )}\\right) + d_{w}\\\\0 & 0 & 0 & 1\\end{matrix}\\right]$$"
      ],
      "text/plain": [
       "⎡             -sin(θ₂)⋅cos(θ₃)                   cos(θ₂)                  -sin\n",
       "⎢                                                                             \n",
       "⎢-sin(θ₁)⋅sin(θ₃) + cos(θ₁)⋅cos(θ₂)⋅cos(θ₃)  sin(θ₂)⋅cos(θ₁)  sin(θ₁)⋅cos(θ₃) \n",
       "⎢                                                                             \n",
       "⎢sin(θ₁)⋅cos(θ₂)⋅cos(θ₃) + sin(θ₃)⋅cos(θ₁)   sin(θ₁)⋅sin(θ₂)  sin(θ₁)⋅sin(θ₃)⋅\n",
       "⎢                                                                             \n",
       "⎣                    0                              0                         \n",
       "\n",
       "(θ₂)⋅sin(θ₃)                                      -dₑ⋅sin(θ₂)⋅sin(θ₃)         \n",
       "                                                                              \n",
       "+ sin(θ₃)⋅cos(θ₁)⋅cos(θ₂)    -d₂⋅sin(θ₁) + dₑ⋅(sin(θ₁)⋅cos(θ₃) + sin(θ₃)⋅cos(θ\n",
       "                                                                              \n",
       "cos(θ₂) - cos(θ₁)⋅cos(θ₃)  d₂⋅cos(θ₁) + dₑ⋅(sin(θ₁)⋅sin(θ₃)⋅cos(θ₂) - cos(θ₁)⋅\n",
       "                                                                              \n",
       "    0                                                      1                  \n",
       "\n",
       "              ⎤\n",
       "              ⎥\n",
       "₁)⋅cos(θ₂))   ⎥\n",
       "              ⎥\n",
       "cos(θ₃)) + d_w⎥\n",
       "              ⎥\n",
       "              ⎦"
      ]
     },
     "metadata": {},
     "output_type": "display_data"
    }
   ],
   "source": [
    "parameters = Matrix([[pi/2, 0, symbols('d_w'), pi/2],\n",
    "                     [-pi/2, 0, 0, symbols('theta_1')],\n",
    "                     [pi/2, 0, symbols('d_2'), symbols('theta_2')],\n",
    "                     [pi/2, 0, 0, symbols('theta_3')],\n",
    "                     [0, 0, symbols('d_e'), 0]])\n",
    "\n",
    "print_denavit_hartenberg(parameters)"
   ]
  }
 ],
 "metadata": {
  "kernelspec": {
   "display_name": "Python 2",
   "language": "python",
   "name": "python2"
  },
  "language_info": {
   "codemirror_mode": {
    "name": "ipython",
    "version": 2
   },
   "file_extension": ".py",
   "mimetype": "text/x-python",
   "name": "python",
   "nbconvert_exporter": "python",
   "pygments_lexer": "ipython2",
   "version": "2.7.12"
  }
 },
 "nbformat": 4,
 "nbformat_minor": 2
}
